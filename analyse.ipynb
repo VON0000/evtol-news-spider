{
 "cells": [
  {
   "cell_type": "code",
   "execution_count": 162,
   "id": "initial_id",
   "metadata": {
    "collapsed": true,
    "ExecuteTime": {
     "end_time": "2024-04-25T04:12:49.236966800Z",
     "start_time": "2024-04-25T04:12:49.212962100Z"
    }
   },
   "outputs": [],
   "source": [
    "from pathlib import Path\n",
    "\n",
    "import pandas as pd\n",
    "import matplotlib.pyplot as plt"
   ]
  },
  {
   "cell_type": "code",
   "outputs": [
    {
     "data": {
      "text/plain": "                                        title  \\\n0                          A2-Cal Aptos Blue    \n1     Ace VTOL GT Slipstream (concept design)   \n2  Ace VTOL Slipstream Elite (concept design)   \n3           Ace VTOL Trinity (concept design)   \n4                          ACS Aviation Z-300   \n\n                                                 url  \\\n0               https://evtol.news/a2-cal-aptos-blue   \n1  https://evtol.news/ace-vtol-gt-slipstream-conc...   \n2  https://evtol.news/ace-vtol-slipstream-elite-c...   \n3  https://evtol.news/ace-vtol-trinity-concept-de...   \n4             https://evtol.news/acs-aviation-z-300/   \n\n                                      Specifications  \n0  [Aircraft type: eVTOL air ambulance aircraft, ...  \n1  [Aircraft type: eVTOL or hybrid-electric VTOL ...  \n2  [Aircraft type: eVTOL or hybrid-electric VTOL ...  \n3  [Aircraft type: eVTOL or hybrid-electric VTOL ...  \n4  [Aircraft type: eVTOL, Piloting: Semi-autonomo...  ",
      "text/html": "<div>\n<style scoped>\n    .dataframe tbody tr th:only-of-type {\n        vertical-align: middle;\n    }\n\n    .dataframe tbody tr th {\n        vertical-align: top;\n    }\n\n    .dataframe thead th {\n        text-align: right;\n    }\n</style>\n<table border=\"1\" class=\"dataframe\">\n  <thead>\n    <tr style=\"text-align: right;\">\n      <th></th>\n      <th>title</th>\n      <th>url</th>\n      <th>Specifications</th>\n    </tr>\n  </thead>\n  <tbody>\n    <tr>\n      <th>0</th>\n      <td>A2-Cal Aptos Blue</td>\n      <td>https://evtol.news/a2-cal-aptos-blue</td>\n      <td>[Aircraft type: eVTOL air ambulance aircraft, ...</td>\n    </tr>\n    <tr>\n      <th>1</th>\n      <td>Ace VTOL GT Slipstream (concept design)</td>\n      <td>https://evtol.news/ace-vtol-gt-slipstream-conc...</td>\n      <td>[Aircraft type: eVTOL or hybrid-electric VTOL ...</td>\n    </tr>\n    <tr>\n      <th>2</th>\n      <td>Ace VTOL Slipstream Elite (concept design)</td>\n      <td>https://evtol.news/ace-vtol-slipstream-elite-c...</td>\n      <td>[Aircraft type: eVTOL or hybrid-electric VTOL ...</td>\n    </tr>\n    <tr>\n      <th>3</th>\n      <td>Ace VTOL Trinity (concept design)</td>\n      <td>https://evtol.news/ace-vtol-trinity-concept-de...</td>\n      <td>[Aircraft type: eVTOL or hybrid-electric VTOL ...</td>\n    </tr>\n    <tr>\n      <th>4</th>\n      <td>ACS Aviation Z-300</td>\n      <td>https://evtol.news/acs-aviation-z-300/</td>\n      <td>[Aircraft type: eVTOL, Piloting: Semi-autonomo...</td>\n    </tr>\n  </tbody>\n</table>\n</div>"
     },
     "execution_count": 148,
     "metadata": {},
     "output_type": "execute_result"
    }
   ],
   "source": [
    "# Load the data\n",
    "from main import OUTPUT_DIR\n",
    "\n",
    "original_df = pd.read_json(Path(OUTPUT_DIR) / \"output.json\")\n",
    "original_df.head()"
   ],
   "metadata": {
    "collapsed": false,
    "ExecuteTime": {
     "end_time": "2024-04-25T04:07:50.823184600Z",
     "start_time": "2024-04-25T04:07:50.783184700Z"
    }
   },
   "id": "33fab192ff124425",
   "execution_count": 148
  },
  {
   "cell_type": "code",
   "outputs": [
    {
     "data": {
      "text/plain": "39"
     },
     "execution_count": 149,
     "metadata": {},
     "output_type": "execute_result"
    }
   ],
   "source": [
    "empty_specifications_rows = original_df[\"Specifications\"].map(lambda x: len(x) == 0)\n",
    "empty_specifications_rows.sum()"
   ],
   "metadata": {
    "collapsed": false,
    "ExecuteTime": {
     "end_time": "2024-04-25T04:07:50.840184500Z",
     "start_time": "2024-04-25T04:07:50.815185100Z"
    }
   },
   "id": "7df67d8f396ed7f5",
   "execution_count": 149
  },
  {
   "cell_type": "code",
   "outputs": [],
   "source": [
    "original_df = original_df.loc[~empty_specifications_rows, :]"
   ],
   "metadata": {
    "collapsed": false,
    "ExecuteTime": {
     "end_time": "2024-04-25T04:07:50.877184300Z",
     "start_time": "2024-04-25T04:07:50.832185600Z"
    }
   },
   "id": "9eb5910bc1dcf633",
   "execution_count": 150
  },
  {
   "cell_type": "code",
   "outputs": [
    {
     "data": {
      "text/plain": "735"
     },
     "execution_count": 151,
     "metadata": {},
     "output_type": "execute_result"
    }
   ],
   "source": [
    "specifications_dict = original_df[\"Specifications\"].to_dict()\n",
    "specifications_dict_edit = {}\n",
    "\n",
    "sub_keys = []\n",
    "for row_idx, specifications in specifications_dict.items():\n",
    "    info_dict = {}\n",
    "    for specification in specifications:\n",
    "        specification: str\n",
    "\n",
    "        slices = specification.split(\":\", 1)\n",
    "        if len(slices) == 1:\n",
    "            sub_key = \"Extra info\"\n",
    "            content = slices[0]\n",
    "        else:\n",
    "            sub_key, content = slices\n",
    "\n",
    "        sub_keys.append(sub_key)\n",
    "        info_dict[sub_key] = content\n",
    "\n",
    "    specifications_dict_edit[row_idx] = info_dict\n",
    "\n",
    "sub_keys = set(sub_keys)\n",
    "len(sub_keys)"
   ],
   "metadata": {
    "collapsed": false,
    "ExecuteTime": {
     "end_time": "2024-04-25T04:07:50.899184900Z",
     "start_time": "2024-04-25T04:07:50.848192500Z"
    }
   },
   "id": "21287db9a2eaec6a",
   "execution_count": 151
  },
  {
   "cell_type": "code",
   "outputs": [
    {
     "data": {
      "text/plain": "<Figure size 640x480 with 1 Axes>",
      "image/png": "[encoded data removed]"
     },
     "metadata": {},
     "output_type": "display_data"
    }
   ],
   "source": [
    "dict_for_new_df = specifications_dict_edit.copy()\n",
    "new_df = pd.DataFrame.from_dict(dict_for_new_df, orient=\"index\")\n",
    "new_df.fillna(\"\", inplace=True)\n",
    "\n",
    "# Count the number of empty string values of each column\n",
    "empty_counts_df = new_df.apply(lambda x: x == \"\").sum()\n",
    "empty_counts_df.plot()\n",
    "plt.xticks([])\n",
    "plt.xlabel(\"Specifications Keys\")\n",
    "plt.ylabel(\"Number of Empty Values\")\n",
    "plt.show()"
   ],
   "metadata": {
    "collapsed": false,
    "ExecuteTime": {
     "end_time": "2024-04-25T04:13:11.710809Z",
     "start_time": "2024-04-25T04:13:11.469812500Z"
    }
   },
   "id": "f4eb660353dc417e",
   "execution_count": 164
  },
  {
   "cell_type": "code",
   "outputs": [
    {
     "data": {
      "text/plain": "['Aircraft type',\n 'Piloting',\n 'Propellers',\n 'Power source',\n 'Fuselage',\n 'Landing gear']"
     },
     "execution_count": 167,
     "metadata": {},
     "output_type": "execute_result"
    }
   ],
   "source": [
    "VALID_SUB_THRESHOLD = 200\n",
    "valid_sub_keys = empty_counts_df[empty_counts_df < VALID_SUB_THRESHOLD].index.to_list()\n",
    "valid_sub_keys"
   ],
   "metadata": {
    "collapsed": false,
    "ExecuteTime": {
     "end_time": "2024-04-25T04:14:37.614571300Z",
     "start_time": "2024-04-25T04:14:37.600561400Z"
    }
   },
   "id": "5132575a1ba9d860",
   "execution_count": 167
  },
  {
   "cell_type": "code",
   "outputs": [],
   "source": [
    "dict_for_new_df = specifications_dict_edit.copy()\n",
    "extra_key = \"extra info\"\n",
    "for row_idx, info_dict in dict_for_new_df.items():\n",
    "    extra_info = \"\"\n",
    "    new_info_dict = {}\n",
    "    for k, v in list(info_dict.items()):\n",
    "        if k in valid_sub_keys:\n",
    "            new_info_dict[k] = v\n",
    "        elif v:\n",
    "            extra_info += f\"{k}: {v}\\n\"\n",
    "\n",
    "    new_info_dict[extra_key] = extra_info\n",
    "    dict_for_new_df[row_idx] = new_info_dict\n",
    "\n",
    "specifications_info_df = pd.DataFrame.from_dict(dict_for_new_df, orient=\"index\")"
   ],
   "metadata": {
    "collapsed": false,
    "ExecuteTime": {
     "end_time": "2024-04-25T04:07:51.367319200Z",
     "start_time": "2024-04-25T04:07:51.337751600Z"
    }
   },
   "id": "c177ec5de3ddd520",
   "execution_count": 154
  },
  {
   "cell_type": "code",
   "outputs": [
    {
     "data": {
      "text/plain": "                                        title  \\\n0                          A2-Cal Aptos Blue    \n1     Ace VTOL GT Slipstream (concept design)   \n2  Ace VTOL Slipstream Elite (concept design)   \n3           Ace VTOL Trinity (concept design)   \n4                          ACS Aviation Z-300   \n\n                                                 url  \\\n0               https://evtol.news/a2-cal-aptos-blue   \n1  https://evtol.news/ace-vtol-gt-slipstream-conc...   \n2  https://evtol.news/ace-vtol-slipstream-elite-c...   \n3  https://evtol.news/ace-vtol-trinity-concept-de...   \n4             https://evtol.news/acs-aviation-z-300/   \n\n                                       Aircraft type  \\\n0                       eVTOL air ambulance aircraft   \n1   eVTOL or hybrid-electric VTOL passenger and c...   \n2   eVTOL or hybrid-electric VTOL passenger and c...   \n3   eVTOL or hybrid-electric VTOL passenger and c...   \n4                                              eVTOL   \n\n                                            Piloting  \\\n0                                            1 pilot   \n1   Low earth orbit satellite-hosted blockchain a...   \n2   Low earth orbit satellite-hosted blockchain a...   \n3   Low earth orbit satellite-hosted blockchain a...   \n4                                    Semi-autonomous   \n\n                   Propellers  \\\n0                8 propellers   \n1   4 next gen plasma engines   \n2   4 next gen plasma engines   \n3   3 next gen plasma engines   \n4                         NaN   \n\n                                        Power source                 Fuselage  \\\n0                            8 Lithium-ion batteries   Carbon fiber composite   \n1   Batteries with 8 second recharging or hybrid-...   Carbon fiber composite   \n2   Batteries with 8 second recharging or hybrid-...   Carbon fiber composite   \n3            H2 range extending auxiliary power unit   Carbon fiber composite   \n4                                                NaN                      NaN   \n\n                                        Landing gear  \\\n0          Tricycle wheeled retractable landing gear   \n1         Retractable quadricycle strut landing gear   \n2         Retractable quadricycle strut landing gear   \n3         Retractable quadricycle strut landing gear   \n4   Tail dragger. (Two wheels under the wings and...   \n\n                                          extra info  \n0  Capacity:  3 people (including the pilot)\\nEst...  \n1  Capacity:  2 passengers\\nElectric motors:  12 ...  \n2  Capacity:  2 passengers\\nElectric motors:  12 ...  \n3  Capacity:  4 to 7 passengers (and is wheelchai...  \n4  Passengers:  2\\nSeating configuration:  Tandem...  ",
      "text/html": "<div>\n<style scoped>\n    .dataframe tbody tr th:only-of-type {\n        vertical-align: middle;\n    }\n\n    .dataframe tbody tr th {\n        vertical-align: top;\n    }\n\n    .dataframe thead th {\n        text-align: right;\n    }\n</style>\n<table border=\"1\" class=\"dataframe\">\n  <thead>\n    <tr style=\"text-align: right;\">\n      <th></th>\n      <th>title</th>\n      <th>url</th>\n      <th>Aircraft type</th>\n      <th>Piloting</th>\n      <th>Propellers</th>\n      <th>Power source</th>\n      <th>Fuselage</th>\n      <th>Landing gear</th>\n      <th>extra info</th>\n    </tr>\n  </thead>\n  <tbody>\n    <tr>\n      <th>0</th>\n      <td>A2-Cal Aptos Blue</td>\n      <td>https://evtol.news/a2-cal-aptos-blue</td>\n      <td>eVTOL air ambulance aircraft</td>\n      <td>1 pilot</td>\n      <td>8 propellers</td>\n      <td>8 Lithium-ion batteries</td>\n      <td>Carbon fiber composite</td>\n      <td>Tricycle wheeled retractable landing gear</td>\n      <td>Capacity:  3 people (including the pilot)\\nEst...</td>\n    </tr>\n    <tr>\n      <th>1</th>\n      <td>Ace VTOL GT Slipstream (concept design)</td>\n      <td>https://evtol.news/ace-vtol-gt-slipstream-conc...</td>\n      <td>eVTOL or hybrid-electric VTOL passenger and c...</td>\n      <td>Low earth orbit satellite-hosted blockchain a...</td>\n      <td>4 next gen plasma engines</td>\n      <td>Batteries with 8 second recharging or hybrid-...</td>\n      <td>Carbon fiber composite</td>\n      <td>Retractable quadricycle strut landing gear</td>\n      <td>Capacity:  2 passengers\\nElectric motors:  12 ...</td>\n    </tr>\n    <tr>\n      <th>2</th>\n      <td>Ace VTOL Slipstream Elite (concept design)</td>\n      <td>https://evtol.news/ace-vtol-slipstream-elite-c...</td>\n      <td>eVTOL or hybrid-electric VTOL passenger and c...</td>\n      <td>Low earth orbit satellite-hosted blockchain a...</td>\n      <td>4 next gen plasma engines</td>\n      <td>Batteries with 8 second recharging or hybrid-...</td>\n      <td>Carbon fiber composite</td>\n      <td>Retractable quadricycle strut landing gear</td>\n      <td>Capacity:  2 passengers\\nElectric motors:  12 ...</td>\n    </tr>\n    <tr>\n      <th>3</th>\n      <td>Ace VTOL Trinity (concept design)</td>\n      <td>https://evtol.news/ace-vtol-trinity-concept-de...</td>\n      <td>eVTOL or hybrid-electric VTOL passenger and c...</td>\n      <td>Low earth orbit satellite-hosted blockchain a...</td>\n      <td>3 next gen plasma engines</td>\n      <td>H2 range extending auxiliary power unit</td>\n      <td>Carbon fiber composite</td>\n      <td>Retractable quadricycle strut landing gear</td>\n      <td>Capacity:  4 to 7 passengers (and is wheelchai...</td>\n    </tr>\n    <tr>\n      <th>4</th>\n      <td>ACS Aviation Z-300</td>\n      <td>https://evtol.news/acs-aviation-z-300/</td>\n      <td>eVTOL</td>\n      <td>Semi-autonomous</td>\n      <td>NaN</td>\n      <td>NaN</td>\n      <td>NaN</td>\n      <td>Tail dragger. (Two wheels under the wings and...</td>\n      <td>Passengers:  2\\nSeating configuration:  Tandem...</td>\n    </tr>\n  </tbody>\n</table>\n</div>"
     },
     "execution_count": 155,
     "metadata": {},
     "output_type": "execute_result"
    }
   ],
   "source": [
    "final_df = pd.concat([original_df[original_df.columns[:2]], specifications_info_df], axis=1)\n",
    "final_df.head()"
   ],
   "metadata": {
    "collapsed": false,
    "ExecuteTime": {
     "end_time": "2024-04-25T04:07:51.385319Z",
     "start_time": "2024-04-25T04:07:51.367319200Z"
    }
   },
   "id": "a1b22d4f83229d31",
   "execution_count": 155
  },
  {
   "cell_type": "code",
   "outputs": [
    {
     "data": {
      "text/plain": "{'title': 0,\n 'url': 0,\n 'Aircraft type': 17,\n 'Piloting': 100,\n 'Propellers': 94,\n 'Power source': 94,\n 'Fuselage': 152,\n 'Landing gear': 34,\n 'extra info': 0}"
     },
     "execution_count": 156,
     "metadata": {},
     "output_type": "execute_result"
    }
   ],
   "source": [
    "final_df.fillna(\"\", inplace=True)\n",
    "final_df_empty_count = final_df.map(lambda x: x == \"\").sum()\n",
    "final_df_empty_count.to_dict()"
   ],
   "metadata": {
    "collapsed": false,
    "ExecuteTime": {
     "end_time": "2024-04-25T04:07:51.417327300Z",
     "start_time": "2024-04-25T04:07:51.382318900Z"
    }
   },
   "id": "375a36251e3c349c",
   "execution_count": 156
  },
  {
   "cell_type": "code",
   "outputs": [],
   "source": [
    "# 根据final_df_empty_count数量，对final_df的列进行排序\n",
    "\n",
    "# Convert the Series into a DataFrame\n",
    "df_empty_count = final_df_empty_count.to_frame()\n",
    "\n",
    "# Reset the index\n",
    "df_empty_count.reset_index(level=0, inplace=True)\n",
    "\n",
    "# Sort the DataFrame\n",
    "df_empty_count_sorted = df_empty_count.sort_values(by=0)\n",
    "\n",
    "# Get the sorted column names\n",
    "sorted_columns = df_empty_count_sorted['index'].tolist()\n",
    "\n",
    "pinned_columns = ['title', 'url', 'extra info']\n",
    "sorted_columns = [c for c in sorted_columns if c not in pinned_columns]\n",
    "sorted_columns = pinned_columns[:2] + sorted_columns + pinned_columns[2:]\n",
    "\n",
    "# Reorder the columns of final_df\n",
    "final_df = final_df[sorted_columns]\n",
    "final_df.to_excel(Path(OUTPUT_DIR) / \"evtol-news-aircraft.xlsx\", index=False)"
   ],
   "metadata": {
    "collapsed": false,
    "ExecuteTime": {
     "end_time": "2024-04-25T04:08:44.791655300Z",
     "start_time": "2024-04-25T04:08:44.574641400Z"
    }
   },
   "id": "2e45ef0384de0c37",
   "execution_count": 160
  }
 ],
 "metadata": {
  "kernelspec": {
   "display_name": "Python 3",
   "language": "python",
   "name": "python3"
  },
  "language_info": {
   "codemirror_mode": {
    "name": "ipython",
    "version": 2
   },
   "file_extension": ".py",
   "mimetype": "text/x-python",
   "name": "python",
   "nbconvert_exporter": "python",
   "pygments_lexer": "ipython2",
   "version": "2.7.6"
  }
 },
 "nbformat": 4,
 "nbformat_minor": 5
}
